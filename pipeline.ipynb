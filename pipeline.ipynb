{
 "cells": [
  {
   "cell_type": "code",
   "execution_count": 90,
   "id": "06c3300a",
   "metadata": {},
   "outputs": [],
   "source": [
    "import os\n",
    "import requests\n",
    "from bs4 import BeautifulSoup\n",
    "from typing import List\n",
    "from pydantic import BaseModel , Field\n",
    "from langchain.prompts import PromptTemplate\n",
    "from typing import TypedDict, Annotated, Sequence\n",
    "from langchain_core.messages import BaseMessage\n",
    "from langchain_core.output_parsers import StrOutputParser\n",
    "from langchain_core.prompts import ChatPromptTemplate, PromptTemplate\n",
    "from langchain_core.runnables import RunnableLambda,RunnablePassthrough\n",
    "from langchain_core.messages import HumanMessage, AIMessage\n",
    "from langchain_google_genai import ChatGoogleGenerativeAI\n",
    "from langgraph.graph import StateGraph,END,MessagesState\n",
    "from langchain_huggingface import HuggingFaceEmbeddings\n",
    "from langchain_community.document_loaders import TextLoader, DirectoryLoader\n",
    "from langchain_community.vectorstores import Chroma\n",
    "from langchain.text_splitter import RecursiveCharacterTextSplitter\n"
   ]
  },
  {
   "cell_type": "code",
   "execution_count": 57,
   "id": "107085d2",
   "metadata": {},
   "outputs": [
    {
     "data": {
      "text/plain": [
       "True"
      ]
     },
     "execution_count": 57,
     "metadata": {},
     "output_type": "execute_result"
    }
   ],
   "source": [
    "from dotenv import load_dotenv\n",
    "load_dotenv()"
   ]
  },
  {
   "cell_type": "code",
   "execution_count": 58,
   "id": "bf12e4ca",
   "metadata": {},
   "outputs": [],
   "source": [
    "model=ChatGoogleGenerativeAI(model='gemini-1.5-flash')"
   ]
  },
  {
   "cell_type": "code",
   "execution_count": 59,
   "id": "e8a1779c",
   "metadata": {},
   "outputs": [],
   "source": [
    "\n",
    "class TopicSelectionParser(BaseModel):\n",
    "    Topic:str=Field(description=\"selected topic\")\n",
    "    Reasoning:str=Field(description='Reasoning behind topic selection')"
   ]
  },
  {
   "cell_type": "code",
   "execution_count": 60,
   "id": "14fbe888",
   "metadata": {},
   "outputs": [],
   "source": [
    "from langchain.output_parsers import PydanticOutputParser\n",
    "\n",
    "parser = PydanticOutputParser(pydantic_object=TopicSelectionParser)"
   ]
  },
  {
   "cell_type": "code",
   "execution_count": 61,
   "id": "ec2d524c",
   "metadata": {},
   "outputs": [],
   "source": [
    "def supervisor_funtion(state: MessagesState):\n",
    "    question = state[\"messages\"][0]\n",
    "    print(f\"Supervisor received question: {question}\")\n",
    "\n",
    "    template = \"\"\"\n",
    "    You are a categorization assistant.\n",
    "    Classify the following user query into one of these categories:\n",
    "    - \"USA\": If it relates to the GDP of the United States \n",
    "    - \"Latest-News\": If it is asking for very recent, current temperature or weather, trending, or breaking news.\n",
    "    - \"Not-Related\": If it doesn't fit either of the above.\n",
    "    Respond with ONLY the category name. Do not explain.\n",
    "    User query: {question}\n",
    "    {format_instructions}\n",
    "    \"\"\"\n",
    "\n",
    "    prompt = PromptTemplate(\n",
    "        input_variables=[\"question\"],\n",
    "        template=template,\n",
    "        partial_variables={\"format_instructions\": parser.get_format_instructions()},\n",
    "    )\n",
    "\n",
    "    chain = prompt | model | parser\n",
    "    response = chain.invoke({\"question\": question})\n",
    "    print(f\"Supervisor response: {response}\")\n",
    "\n",
    "    # Return the classification in a structured way\n",
    "    return {\n",
    "        \"messages\": state[\"messages\"] + [AIMessage(content=response.Topic)],\n",
    "        \"classification\": response.Topic  # Explicitly store the classification\n",
    "    }"
   ]
  },
  {
   "cell_type": "code",
   "execution_count": 62,
   "id": "7c7584e4",
   "metadata": {},
   "outputs": [],
   "source": [
    "def router(state: MessagesState):\n",
    "    # Check if \"classification\" exists in state (from supervisor)\n",
    "    if \"classification\" in state:\n",
    "        classification = state[\"classification\"]\n",
    "    else:\n",
    "        # Fallback: Extract from last message (backward compatibility)\n",
    "        last_message = state[\"messages\"][-1]\n",
    "        classification = last_message.content if isinstance(last_message, AIMessage) else last_message\n",
    "    \n",
    "    print(f\"[Router] Classification: {classification}\")  # Debug log\n",
    "    \n",
    "    if classification == \"Latest-News\":\n",
    "        return \"Web Crawler Call\"\n",
    "    elif classification == \"USA\":\n",
    "        return \"RAG Call\"\n",
    "    else:\n",
    "        return \"LLM Call\""
   ]
  },
  {
   "cell_type": "code",
   "execution_count": 63,
   "id": "d1f29322",
   "metadata": {},
   "outputs": [],
   "source": [
    "def llm(state:MessagesState):\n",
    "    question=state[\"messages\"][0]\n",
    "    print(f\"LLM received question: {question}\")\n",
    "\n",
    "    template = \"\"\"You are a helpful assistant. Your task is to provide the information on the topic: {question} \"\"\"\n",
    "\n",
    "    response = model.invoke(template.format(question=question))\n",
    "    print(f\"LLM response: {response.content}\")\n",
    "    return {\"messages\":[response.content]}\n"
   ]
  },
  {
   "cell_type": "code",
   "execution_count": 64,
   "id": "5faebe29",
   "metadata": {},
   "outputs": [
    {
     "data": {
      "text/plain": [
       "384"
      ]
     },
     "execution_count": 64,
     "metadata": {},
     "output_type": "execute_result"
    }
   ],
   "source": [
    "embeddings=HuggingFaceEmbeddings(\n",
    "    model_name=\"BAAI/bge-small-en\")\n",
    "len(embeddings.embed_query(\"hello world\"))"
   ]
  },
  {
   "cell_type": "code",
   "execution_count": 65,
   "id": "228fd211",
   "metadata": {},
   "outputs": [],
   "source": [
    "loader=DirectoryLoader(\"./data\",glob=\"*.txt\",loader_cls=TextLoader)\n",
    "documents=loader.load()\n",
    "text_splitter=RecursiveCharacterTextSplitter(chunk_size=1000,chunk_overlap=0)\n",
    "docs=text_splitter.split_documents(documents)\n",
    "vectorstore=Chroma.from_documents(docs,embeddings,collection_name=\"usa\")\n",
    "\n"
   ]
  },
  {
   "cell_type": "code",
   "execution_count": 66,
   "id": "d272fffa",
   "metadata": {},
   "outputs": [],
   "source": [
    "retriever=vectorstore.as_retriever(search_kwargs={\"k\":1})"
   ]
  },
  {
   "cell_type": "code",
   "execution_count": 97,
   "id": "53bc0111",
   "metadata": {},
   "outputs": [],
   "source": [
    "\n",
    "def format_docs(docs):\n",
    "    return \"\\n\\n\".join(doc.page_content for doc in docs)"
   ]
  },
  {
   "cell_type": "code",
   "execution_count": 98,
   "id": "0a12e794",
   "metadata": {},
   "outputs": [],
   "source": [
    "def rag(state: MessagesState):\n",
    "    print(\"-> RAG CALL ->\")\n",
    "\n",
    "    # Extract the content from the HumanMessage object\n",
    "    if isinstance(state[\"messages\"][0], HumanMessage):\n",
    "        question = state[\"messages\"][0].content\n",
    "    else:\n",
    "        question = state[\"messages\"][0]\n",
    "    \n",
    "    prompt = PromptTemplate(\n",
    "        template=\"\"\"You are an assistant for question-answering tasks. Use the following pieces of retrieved context to answer the question. If you don't know the answer, just say that you don't know. Use three sentences maximum and keep the answer concise.\\nQuestion: {question} \\nContext: {context} \\nAnswer:\"\"\",\n",
    "        input_variables=['context', 'question']\n",
    "    )\n",
    "\n",
    "    rag_chain = (\n",
    "        {\"context\": retriever | format_docs, \"question\": RunnablePassthrough()} \n",
    "        | prompt \n",
    "        | model \n",
    "        | StrOutputParser()\n",
    "    )\n",
    "\n",
    "    result = rag_chain.invoke(question)\n",
    "    return {\"messages\": [result]}"
   ]
  },
  {
   "cell_type": "code",
   "execution_count": 99,
   "id": "79caca3d",
   "metadata": {},
   "outputs": [],
   "source": [
    "def webCrawler(state: MessagesState):\n",
    "    query = state[\"messages\"][0]\n",
    "    print(f\"WebCrawler received query: {query}\")\n",
    "\n",
    "    # Use a news API (e.g., NewsAPI, GNews) or scrape a news site like BBC\n",
    "    news_url = \"https://news.google.com/search?q=new+delhi&hl=en-IN&gl=IN&ceid=IN:en\"\n",
    "    headers = {\"User-Agent\": \"Mozilla/5.0\"}\n",
    "    \n",
    "    try:\n",
    "        response = requests.get(news_url, headers=headers)\n",
    "        soup = BeautifulSoup(response.text, \"html.parser\")\n",
    "        \n",
    "        # Extract headlines (Google News structure)\n",
    "        headlines = soup.select(\"h3\")[:5]  # Top 5 headlines\n",
    "        news_list = [f\"📰 {h.get_text(strip=True)}\" for h in headlines]\n",
    "        \n",
    "        answer = \"Latest News in New Delhi:\\n\" + \"\\n\".join(news_list)\n",
    "    except Exception as e:\n",
    "        answer = f\"⚠️ Could not fetch live news. Error: {str(e)}\"\n",
    "    \n",
    "    return {\"messages\": state[\"messages\"] + [AIMessage(content=answer)]}"
   ]
  },
  {
   "cell_type": "code",
   "execution_count": 100,
   "id": "59460a3b",
   "metadata": {},
   "outputs": [],
   "source": [
    "def validator(state: MessagesState):\n",
    "    user_query = state[\"messages\"][0]\n",
    "    response = state[\"messages\"][-1]\n",
    "\n",
    "    validation_prompt = PromptTemplate(\n",
    "    input_variables=[\"query\", \"answer\"],\n",
    "    template=\"\"\"You are a strict evaluator. A user asked: \"{query}\"\n",
    "\n",
    "    The assistant replied: \"{answer}\"\n",
    "\n",
    "    For news queries, is this answer helpful (even if not exhaustive)?\n",
    "    Respond with exactly one word: Yes or No.\"\"\"\n",
    "    )\n",
    "\n",
    "    chain = validation_prompt | model | StrOutputParser()\n",
    "    validation_result = chain.invoke({\"query\": user_query, \"answer\": response}).strip()\n",
    "\n",
    "    print(f\"[Validator] Validation result: {validation_result}\")\n",
    "    \n",
    "    attempts = state.get(\"attempts\", 0) + 1\n",
    "    return {\n",
    "        \"messages\": state[\"messages\"] + [AIMessage(content=validation_result)],\n",
    "        \"validation_result\": validation_result.lower(),\n",
    "        \"attempts\": attempts\n",
    "    }\n"
   ]
  },
  {
   "cell_type": "code",
   "execution_count": 101,
   "id": "311fbde3",
   "metadata": {},
   "outputs": [],
   "source": [
    "def routerValidator(state: dict):\n",
    "    if state.get(\"validation_result\", \"\") == \"yes\":  \n",
    "        return \"End\"\n",
    "    elif state.get(\"attempts\", 0) < 2:\n",
    "        print(\"[RouterValidator] Retrying with LLM.\")\n",
    "        return \"Supervisor\"\n",
    "    else:\n",
    "        return \"End\""
   ]
  },
  {
   "cell_type": "code",
   "execution_count": 102,
   "id": "5bb53bad",
   "metadata": {},
   "outputs": [],
   "source": [
    "workflow= StateGraph(MessagesState)"
   ]
  },
  {
   "cell_type": "code",
   "execution_count": 103,
   "id": "4df45860",
   "metadata": {},
   "outputs": [
    {
     "data": {
      "text/plain": [
       "<langgraph.graph.state.StateGraph at 0x2ac121d7110>"
      ]
     },
     "execution_count": 103,
     "metadata": {},
     "output_type": "execute_result"
    }
   ],
   "source": [
    "workflow.add_node(\n",
    "    \"supervisor\",supervisor_funtion,)"
   ]
  },
  {
   "cell_type": "code",
   "execution_count": 104,
   "id": "234e4a4a",
   "metadata": {},
   "outputs": [
    {
     "data": {
      "text/plain": [
       "<langgraph.graph.state.StateGraph at 0x2ac121d7110>"
      ]
     },
     "execution_count": 104,
     "metadata": {},
     "output_type": "execute_result"
    }
   ],
   "source": [
    "workflow.add_node(\"LLM\",llm)"
   ]
  },
  {
   "cell_type": "code",
   "execution_count": 105,
   "id": "13d8319e",
   "metadata": {},
   "outputs": [
    {
     "data": {
      "text/plain": [
       "<langgraph.graph.state.StateGraph at 0x2ac121d7110>"
      ]
     },
     "execution_count": 105,
     "metadata": {},
     "output_type": "execute_result"
    }
   ],
   "source": [
    "workflow.add_node(\"RAG\",rag)"
   ]
  },
  {
   "cell_type": "code",
   "execution_count": 106,
   "id": "767ced1c",
   "metadata": {},
   "outputs": [
    {
     "data": {
      "text/plain": [
       "<langgraph.graph.state.StateGraph at 0x2ac121d7110>"
      ]
     },
     "execution_count": 106,
     "metadata": {},
     "output_type": "execute_result"
    }
   ],
   "source": [
    "workflow.add_node(\"webCrawler\",webCrawler)"
   ]
  },
  {
   "cell_type": "code",
   "execution_count": 107,
   "id": "bc42f335",
   "metadata": {},
   "outputs": [
    {
     "data": {
      "text/plain": [
       "<langgraph.graph.state.StateGraph at 0x2ac121d7110>"
      ]
     },
     "execution_count": 107,
     "metadata": {},
     "output_type": "execute_result"
    }
   ],
   "source": [
    "workflow.add_node(\"validator\",validator)"
   ]
  },
  {
   "cell_type": "code",
   "execution_count": 108,
   "id": "284256bc",
   "metadata": {},
   "outputs": [
    {
     "data": {
      "text/plain": [
       "<langgraph.graph.state.StateGraph at 0x2ac121d7110>"
      ]
     },
     "execution_count": 108,
     "metadata": {},
     "output_type": "execute_result"
    }
   ],
   "source": [
    "workflow.set_entry_point(\"supervisor\")"
   ]
  },
  {
   "cell_type": "code",
   "execution_count": 109,
   "id": "ec56fb34",
   "metadata": {},
   "outputs": [
    {
     "data": {
      "text/plain": [
       "<langgraph.graph.state.StateGraph at 0x2ac121d7110>"
      ]
     },
     "execution_count": 109,
     "metadata": {},
     "output_type": "execute_result"
    }
   ],
   "source": [
    "workflow.add_conditional_edges(\n",
    "    \"supervisor\",\n",
    "    router,{\n",
    "        \"RAG Call\": \"RAG\",\n",
    "        \"LLM Call\": \"LLM\",\n",
    "        \"Web Crawler Call\": \"webCrawler\",\n",
    "    }\n",
    ")"
   ]
  },
  {
   "cell_type": "code",
   "execution_count": 110,
   "id": "375d6207",
   "metadata": {},
   "outputs": [
    {
     "data": {
      "text/plain": [
       "<langgraph.graph.state.StateGraph at 0x2ac121d7110>"
      ]
     },
     "execution_count": 110,
     "metadata": {},
     "output_type": "execute_result"
    }
   ],
   "source": [
    "workflow.add_conditional_edges(\n",
    "    \"validator\",\n",
    "    routerValidator,\n",
    "    {\n",
    "        \"Supervisor\": \"supervisor\",\n",
    "        \"End\": END\n",
    "    }\n",
    ")\n",
    "\n"
   ]
  },
  {
   "cell_type": "code",
   "execution_count": 111,
   "id": "bb197ec9",
   "metadata": {},
   "outputs": [
    {
     "data": {
      "text/plain": [
       "<langgraph.graph.state.StateGraph at 0x2ac121d7110>"
      ]
     },
     "execution_count": 111,
     "metadata": {},
     "output_type": "execute_result"
    }
   ],
   "source": [
    "workflow.add_edge(\"LLM\", \"validator\")\n",
    "workflow.add_edge(\"RAG\", \"validator\")\n",
    "workflow.add_edge(\"webCrawler\", \"validator\")"
   ]
  },
  {
   "cell_type": "code",
   "execution_count": 112,
   "id": "4c0f7a6b",
   "metadata": {},
   "outputs": [
    {
     "data": {
      "text/plain": [
       "<langgraph.graph.state.StateGraph at 0x2ac121d7110>"
      ]
     },
     "execution_count": 112,
     "metadata": {},
     "output_type": "execute_result"
    }
   ],
   "source": [
    "workflow.add_edge(\"validator\",END)"
   ]
  },
  {
   "cell_type": "code",
   "execution_count": 113,
   "id": "be6b3b47",
   "metadata": {},
   "outputs": [],
   "source": [
    "app=workflow.compile()"
   ]
  },
  {
   "cell_type": "code",
   "execution_count": 114,
   "id": "30b05b01",
   "metadata": {},
   "outputs": [
    {
     "data": {
      "image/png": "[encoded data removed]",
      "text/plain": [
       "<IPython.core.display.Image object>"
      ]
     },
     "metadata": {},
     "output_type": "display_data"
    }
   ],
   "source": [
    "from IPython.display import Image, display\n",
    "display(Image(app.get_graph().draw_mermaid_png()))"
   ]
  },
  {
   "cell_type": "code",
   "execution_count": 118,
   "id": "2b088f48",
   "metadata": {},
   "outputs": [],
   "source": [
    "test_input = {\"messages\": [HumanMessage(content=\"Tell me about the war in Ukraine?\")]}\n"
   ]
  },
  {
   "cell_type": "code",
   "execution_count": null,
   "id": "7e72b4d2",
   "metadata": {},
   "outputs": [
    {
     "name": "stdout",
     "output_type": "stream",
     "text": [
      "Supervisor received question: content='Tell me about the war in Ukraine?' additional_kwargs={} response_metadata={} id='cb2f51ef-3c53-4911-9895-c492aadcfa6b'\n",
      "Supervisor response: Topic='Not-Related' Reasoning='The query asks about the war in Ukraine, which is a geopolitical event not directly related to US GDP or breaking news.'\n",
      "[Router] Classification: Not-Related\n",
      "LLM received question: content='Tell me about the war in Ukraine?' additional_kwargs={} response_metadata={} id='cb2f51ef-3c53-4911-9895-c492aadcfa6b'\n",
      "LLM response: The war in Ukraine, which began with a full-scale Russian invasion on February 24, 2022, is a complex and ongoing conflict with deep historical roots.  It's impossible to fully summarize it in a short response, but here's a breakdown of key aspects:\n",
      "\n",
      "**Background:**\n",
      "\n",
      "* **Historical Context:**  Ukraine and Russia share deep historical and cultural ties, but Ukraine has also experienced periods of Russian domination and sought independence.  The collapse of the Soviet Union in 1991 led to Ukraine's independence, but Russia has never fully accepted this.\n",
      "* **2014 Annexation of Crimea:**  Following a pro-Western revolution in Ukraine in 2014, Russia annexed the Crimean Peninsula, a region with a majority-Russian population.  Simultaneously, a conflict erupted in eastern Ukraine's Donbas region between Ukrainian forces and Russian-backed separatists.\n",
      "\n",
      "**The 2022 Invasion and Current Situation:**\n",
      "\n",
      "* **Full-Scale Invasion:**  Russia launched a full-scale invasion of Ukraine in February 2022, citing security concerns and aiming to \"demilitarize\" and \"denazify\" the country (claims widely rejected by the international community as false pretexts).\n",
      "* **Key Events:** The invasion involved a multi-pronged attack, with fighting occurring across the country.  Significant battles have taken place in Kyiv, Kharkiv, Mariupol, and other cities.  Russia has faced unexpected resistance from Ukrainian forces.\n",
      "* **International Response:** The invasion has led to widespread international condemnation and sanctions against Russia.  Many countries have provided military and humanitarian aid to Ukraine.  The International Criminal Court has issued an arrest warrant for Vladimir Putin.\n",
      "* **Humanitarian Crisis:** The war has caused a massive humanitarian crisis, with millions of Ukrainians displaced both internally and externally.  There have been widespread reports of war crimes and atrocities committed by Russian forces.\n",
      "* **Military Aspects:** The conflict has seen the use of various weapons and tactics, including artillery, missiles, tanks, and drones.  Both sides have suffered significant casualties. The war has also highlighted the importance of Western military aid and the effectiveness of Ukrainian resistance.\n",
      "* **Negotiations:**  While there have been attempts at negotiations, they have largely been unsuccessful.  Both sides have stated their conditions for peace, which remain far apart.\n",
      "\n",
      "**Key Issues and Uncertainties:**\n",
      "\n",
      "* **The Future of Ukraine's Territory:** The extent of Ukrainian territory that will ultimately remain under Ukrainian control is uncertain.\n",
      "* **The Duration of the Conflict:**  The length of the war is unpredictable.\n",
      "* **International Implications:**  The war has significantly altered the geopolitical landscape, increasing tensions between Russia and the West.\n",
      "\n",
      "\n",
      "To gain a more comprehensive understanding, it is recommended to consult reputable news sources, academic analyses, and reports from international organizations like the UN.  This response provides only a broad overview of a highly complex and evolving situation.\n",
      "[Validator] Validation result: Yes\n",
      "'Yes'\n"
     ]
    }
   ],
   "source": [
    "# Run the entire pipeline\n",
    "final_output = app.invoke(test_input)\n",
    "\n",
    "# View final response\n",
    "from pprint import pprint\n",
    "pprint(final_output[\"messages\"][-1].content)\n"
   ]
  },
  {
   "cell_type": "code",
   "execution_count": null,
   "id": "d925e29f",
   "metadata": {},
   "outputs": [],
   "source": [
    "test_input = {\n",
    "    \"messages\": [HumanMessage(content=\"GDP of USA\")]\n",
    "}\n"
   ]
  },
  {
   "cell_type": "code",
   "execution_count": 117,
   "id": "68c8d367",
   "metadata": {},
   "outputs": [
    {
     "name": "stdout",
     "output_type": "stream",
     "text": [
      "Supervisor received question: content='GDP of USA' additional_kwargs={} response_metadata={} id='4b1a670f-da5f-495b-938e-d44649230702'\n",
      "Supervisor response: Topic='USA' Reasoning=\"The query explicitly mentions 'GDP of USA', directly relating to the United States' GDP.\"\n",
      "[Router] Classification: USA\n",
      "-> RAG CALL ->\n",
      "[Validator] Validation result: Yes\n",
      "('The U.S. nominal GDP in 2024 is estimated at $28 trillion, representing '\n",
      " \"about 25% of the global economy.  This makes it the world's largest economy \"\n",
      " 'by nominal GDP.  The U.S. also has a high GDP per capita, around $83,000.')\n"
     ]
    }
   ],
   "source": [
    "# Run the entire pipeline\n",
    "final_output = app.invoke(test_input)\n",
    "\n",
    "# View final response\n",
    "from pprint import pprint\n",
    "pprint(final_output[\"messages\"][-2].content)"
   ]
  },
  {
   "cell_type": "code",
   "execution_count": null,
   "id": "f1f62006",
   "metadata": {},
   "outputs": [
    {
     "name": "stdout",
     "output_type": "stream",
     "text": [
      "Supervisor received question: content='lastest news' additional_kwargs={} response_metadata={} id='934f4807-87b9-4d9c-8bcc-4907a7c28c12'\n",
      "Supervisor response: Topic='Latest-News' Reasoning=\"The query explicitly asks for 'lastest news'.\"\n",
      "[Router] Classification: Latest-News\n",
      "WebCrawler received query: content='lastest news' additional_kwargs={} response_metadata={} id='934f4807-87b9-4d9c-8bcc-4907a7c28c12'\n",
      "[Validator] Validation result: Yes\n",
      "('Latest News in New Delhi:\\n'\n",
      " '📰 India Meteorological Department predicts heavy rainfall in Delhi\\n'\n",
      " '📰 Posts on X\\n'\n",
      " '📰 Delhi schools receive bomb threats, police investigate\\n'\n",
      " '📰 News about CM • New Delhi • Andhra Pradesh')\n"
     ]
    }
   ],
   "source": [
    "test_input = {\"messages\": [HumanMessage(content=\"lastest news\")]}\n",
    "# Run the entire pipeline\n",
    "final_output = app.invoke(test_input)\n",
    "# View final response\n",
    "from pprint import pprint\n",
    "pprint(final_output[\"messages\"][-2].content)"
   ]
  }
 ],
 "metadata": {
  "kernelspec": {
   "display_name": "Python 3",
   "language": "python",
   "name": "python3"
  },
  "language_info": {
   "codemirror_mode": {
    "name": "ipython",
    "version": 3
   },
   "file_extension": ".py",
   "mimetype": "text/x-python",
   "name": "python",
   "nbconvert_exporter": "python",
   "pygments_lexer": "ipython3",
   "version": "3.13.5"
  }
 },
 "nbformat": 4,
 "nbformat_minor": 5
}
